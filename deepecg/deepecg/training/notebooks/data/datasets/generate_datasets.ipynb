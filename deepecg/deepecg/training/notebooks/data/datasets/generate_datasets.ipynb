{
 "cells": [
  {
   "cell_type": "markdown",
   "metadata": {},
   "source": [
    "# ECG Databases \n",
    "### Sebastian D. Goodfellow, Ph.D."
   ]
  },
  {
   "cell_type": "markdown",
   "metadata": {},
   "source": [
    "# Setup Notebook"
   ]
  },
  {
   "cell_type": "code",
   "execution_count": 1,
   "metadata": {},
   "outputs": [],
   "source": [
    "# Import 3rd party libraries\n",
    "import sys\n",
    "\n",
    "# Import local Libraries\n",
    "sys.path.insert(0, r'C:\\Users\\sebastian goodfellow\\Documents\\code\\deep_ecg')\n",
    "from deepecg.training.data.datasets.datasets import Datasets\n",
    "\n",
    "# Configure Notebook\n",
    "import warnings\n",
    "warnings.filterwarnings('ignore')\n",
    "%matplotlib inline\n",
    "%load_ext autoreload\n",
    "%autoreload 2"
   ]
  },
  {
   "cell_type": "markdown",
   "metadata": {},
   "source": [
    "# Generate Databases"
   ]
  },
  {
   "cell_type": "code",
   "execution_count": 2,
   "metadata": {},
   "outputs": [
    {
     "name": "stdout",
     "output_type": "stream",
     "text": [
      "Generating Raw Physionet2017 Database ...\n",
      "Downloading https://physionet.org/challenge/2017/training2017.zip ...\n",
      "Unzipping database ...\n",
      "Restructuring folders and files ...\n",
      "Complete!\n",
      "\n",
      "Generating Processed Physionet2017 Database ...\n",
      "Complete!\n",
      "\n"
     ]
    }
   ],
   "source": [
    "# List of dabasets to pull\n",
    "datasets = {'physionet2017': 'target'}\n",
    "#datasets = {'physionet2017': 'target', 'afdb': 'augment', 'nsrdb': 'augment'}\n",
    "\n",
    "# Initialize\n",
    "datasets = Datasets(datasets=datasets)\n",
    "\n",
    "# Geenerate datasets\n",
    "datasets.generate_dbs()"
   ]
  },
  {
   "cell_type": "markdown",
   "metadata": {},
   "source": [
    "# Combine Databases"
   ]
  },
  {
   "cell_type": "code",
   "execution_count": 3,
   "metadata": {},
   "outputs": [],
   "source": [
    "# List of dabasets to pull\n",
    "datasets = {'physionet2017': 'target'}\n",
    "\n",
    "# Initialize\n",
    "datasets = Datasets(datasets=datasets)\n",
    "\n",
    "# Geenerate datasets\n",
    "datasets.combine_dbs()"
   ]
  }
 ],
 "metadata": {
  "kernelspec": {
   "display_name": "Python 3",
   "language": "python",
   "name": "python3"
  },
  "language_info": {
   "codemirror_mode": {
    "name": "ipython",
    "version": 3
   },
   "file_extension": ".py",
   "mimetype": "text/x-python",
   "name": "python",
   "nbconvert_exporter": "python",
   "pygments_lexer": "ipython3",
   "version": "3.6.6"
  }
 },
 "nbformat": 4,
 "nbformat_minor": 2
}
